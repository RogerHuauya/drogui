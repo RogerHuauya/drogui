{
 "cells": [
  {
   "cell_type": "code",
   "execution_count": 29,
   "metadata": {},
   "outputs": [],
   "source": [
    "import numpy as np\n",
    "import utils\n",
    "import cv2\n",
    "import time"
   ]
  },
  {
   "cell_type": "code",
   "execution_count": 30,
   "metadata": {},
   "outputs": [],
   "source": [
    "PATH_RESULTS = 'results 2/'\n",
    "CAMERA_WIDTH = 640\n",
    "CAMERA_HEIGHT = 480\n",
    "ID_CAMERA = 2\n",
    "CHESSBOARD_SIZE = (6,9)"
   ]
  },
  {
   "cell_type": "code",
   "execution_count": 31,
   "metadata": {},
   "outputs": [],
   "source": [
    "CROP_WIDTH = 600\n",
    "def cropHorizontal(image):\n",
    "    return image[:,int((CAMERA_WIDTH-CROP_WIDTH)/2):int(CROP_WIDTH+(CAMERA_WIDTH-CROP_WIDTH)/2)]"
   ]
  },
  {
   "cell_type": "code",
   "execution_count": 32,
   "metadata": {},
   "outputs": [],
   "source": [
    "calibrator = utils.Calibrator(size = CHESSBOARD_SIZE,PATH_RESULTS = PATH_RESULTS)"
   ]
  },
  {
   "cell_type": "code",
   "execution_count": 33,
   "metadata": {},
   "outputs": [],
   "source": [
    "font = cv2.FONT_HERSHEY_SIMPLEX \n",
    "fontScale = 1\n",
    "color_red = (0,0,255) \n",
    "color_blue = (255,0,0) \n",
    "thickness = 2\n",
    "fps = 0\n",
    "cnt = 0"
   ]
  },
  {
   "cell_type": "code",
   "execution_count": 34,
   "metadata": {},
   "outputs": [
    {
     "name": "stdout",
     "output_type": "stream",
     "text": [
      "end\n"
     ]
    }
   ],
   "source": [
    "cap = utils.StereoCapture(ID_CAMERA,size=(CAMERA_WIDTH,CAMERA_HEIGHT))\n",
    "\n",
    "name_video = 'results.avi'\n",
    "fourcc = cv2.VideoWriter_fourcc(*'XVID')\n",
    "out = cv2.VideoWriter(calibrator.PATH_VIDEOS+name_video,fourcc, 10.0, (CAMERA_WIDTH*2,CAMERA_HEIGHT))\n",
    "\n",
    "\n",
    "while True:\n",
    "    start = time.time()\n",
    "    frame = cap.read()\n",
    "    if frame is None:\n",
    "        break\n",
    "    left = frame[:,0:CAMERA_WIDTH]\n",
    "    right = frame[:,CAMERA_WIDTH:]\n",
    "    left = cropHorizontal(left)\n",
    "    right = cropHorizontal(right)\n",
    "    hasCorners,original_images,chess_images,object_points,corners = calibrator.get_points([left,right])\n",
    "    frame = frame[:,0:2*CROP_WIDTH]\n",
    "    frame[:,0:CROP_WIDTH] = chess_images[0]\n",
    "    frame[:,CROP_WIDTH:]  = chess_images[1]\n",
    "    correct = hasCorners[0]*hasCorners[1]\n",
    "    color = color_blue if correct else color_red\n",
    "    fps = np.round(1/(time.time()-start),2)\n",
    "    frame = cv2.putText(frame,'left : '+str(fps),(30,30), font,fontScale, color, thickness, cv2.LINE_AA) \n",
    "    frame = cv2.putText(frame,'right : '+str(fps),(30+CAMERA_WIDTH,30), font,fontScale, color, thickness, cv2.LINE_AA)             \n",
    "    if correct:\n",
    "        calibrator.save_images(original_images[0],original_images[1],frame)\n",
    "    cv2.imshow('Frame',frame)\n",
    "    out.write(frame)\n",
    "    key = cv2.waitKey(1) & 0xFF\n",
    "    if key == ord('q'):\n",
    "        print(\"end\")\n",
    "        break\n",
    "    if key == ord('s'):\n",
    "        break\n",
    "cap.release()\n",
    "#print('cap ended')\n",
    "out.release()\n",
    "#print('out ended')\n",
    "cv2.destroyAllWindows()"
   ]
  },
  {
   "cell_type": "code",
   "execution_count": 35,
   "metadata": {},
   "outputs": [
    {
     "data": {
      "text/plain": [
       "(480, 1200, 3)"
      ]
     },
     "execution_count": 35,
     "metadata": {},
     "output_type": "execute_result"
    }
   ],
   "source": [
    "frame.shape"
   ]
  },
  {
   "cell_type": "code",
   "execution_count": null,
   "metadata": {},
   "outputs": [],
   "source": []
  },
  {
   "cell_type": "code",
   "execution_count": null,
   "metadata": {},
   "outputs": [],
   "source": []
  },
  {
   "cell_type": "code",
   "execution_count": null,
   "metadata": {},
   "outputs": [],
   "source": []
  },
  {
   "cell_type": "code",
   "execution_count": null,
   "metadata": {},
   "outputs": [],
   "source": []
  },
  {
   "cell_type": "code",
   "execution_count": null,
   "metadata": {},
   "outputs": [],
   "source": []
  },
  {
   "cell_type": "code",
   "execution_count": null,
   "metadata": {},
   "outputs": [],
   "source": []
  },
  {
   "cell_type": "code",
   "execution_count": null,
   "metadata": {},
   "outputs": [],
   "source": []
  },
  {
   "cell_type": "code",
   "execution_count": null,
   "metadata": {},
   "outputs": [],
   "source": []
  },
  {
   "cell_type": "code",
   "execution_count": null,
   "metadata": {},
   "outputs": [],
   "source": []
  },
  {
   "cell_type": "code",
   "execution_count": null,
   "metadata": {},
   "outputs": [],
   "source": []
  },
  {
   "cell_type": "code",
   "execution_count": null,
   "metadata": {},
   "outputs": [],
   "source": []
  },
  {
   "cell_type": "code",
   "execution_count": null,
   "metadata": {},
   "outputs": [],
   "source": []
  },
  {
   "cell_type": "code",
   "execution_count": null,
   "metadata": {},
   "outputs": [],
   "source": []
  },
  {
   "cell_type": "code",
   "execution_count": null,
   "metadata": {},
   "outputs": [],
   "source": []
  },
  {
   "cell_type": "code",
   "execution_count": null,
   "metadata": {},
   "outputs": [],
   "source": []
  },
  {
   "cell_type": "code",
   "execution_count": null,
   "metadata": {},
   "outputs": [],
   "source": []
  },
  {
   "cell_type": "code",
   "execution_count": null,
   "metadata": {},
   "outputs": [],
   "source": []
  },
  {
   "cell_type": "code",
   "execution_count": null,
   "metadata": {},
   "outputs": [],
   "source": []
  },
  {
   "cell_type": "code",
   "execution_count": null,
   "metadata": {},
   "outputs": [],
   "source": []
  },
  {
   "cell_type": "code",
   "execution_count": null,
   "metadata": {},
   "outputs": [],
   "source": []
  },
  {
   "cell_type": "code",
   "execution_count": null,
   "metadata": {},
   "outputs": [],
   "source": []
  },
  {
   "cell_type": "code",
   "execution_count": null,
   "metadata": {},
   "outputs": [],
   "source": []
  }
 ],
 "metadata": {
  "kernelspec": {
   "display_name": "Python 3",
   "language": "python",
   "name": "python3"
  },
  "language_info": {
   "codemirror_mode": {
    "name": "ipython",
    "version": 3
   },
   "file_extension": ".py",
   "mimetype": "text/x-python",
   "name": "python",
   "nbconvert_exporter": "python",
   "pygments_lexer": "ipython3",
   "version": "3.6.9"
  }
 },
 "nbformat": 4,
 "nbformat_minor": 4
}
